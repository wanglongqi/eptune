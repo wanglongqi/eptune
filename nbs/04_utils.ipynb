{
 "cells": [
  {
   "cell_type": "code",
   "execution_count": null,
   "metadata": {},
   "outputs": [],
   "source": [
    "#hide\n",
    "%load_ext autoreload\n",
    "%autoreload 2"
   ]
  },
  {
   "cell_type": "code",
   "execution_count": null,
   "metadata": {},
   "outputs": [],
   "source": [
    "# default_exp utils"
   ]
  },
  {
   "cell_type": "markdown",
   "metadata": {},
   "source": [
    "# Utils\n",
    "\n",
    "Some utils functions for parameter tuning"
   ]
  },
  {
   "cell_type": "code",
   "execution_count": null,
   "metadata": {},
   "outputs": [],
   "source": [
    "#hide\n",
    "from nbdev.showdoc import *\n",
    "from nbdev.export import notebook2script"
   ]
  },
  {
   "cell_type": "code",
   "execution_count": null,
   "metadata": {},
   "outputs": [],
   "source": [
    "#exporti\n",
    "from math import log, log10, log2\n",
    "from concurrent.futures import ProcessPoolExecutor\n",
    "import os\n",
    "from deap.tools import Logbook, HallOfFame\n",
    "from matplotlib import pylab\n",
    "import warnings\n",
    "import platform\n",
    "\n",
    "def logx(y, x=10):\n",
    "    return log(y) / log(x)\n",
    "\n",
    "\n",
    "def _logbook_plot(self, keys='all', ax=None):\n",
    "    if keys=='all':\n",
    "        keys= list(self.header)\n",
    "        keys.remove('gen')\n",
    "        keys.remove('nevals')\n",
    "    if ax is None:\n",
    "        figure = pylab.figure()\n",
    "        ax = figure.add_subplot()\n",
    "    for key in keys:\n",
    "        ax.plot(self.select('gen'), self.select(key))\n",
    "    pylab.title(f'EPTune with {sum(self.select(\"nevals\"))} evaluations')\n",
    "    ax.legend(keys)\n",
    "    return ax.figure\n",
    "    \n",
    "    \n",
    "Logbook.plot =  _logbook_plot\n",
    "\n",
    "def _hof_repr(self):\n",
    "    return str([(i,i.fitness.values) for i in self])\n",
    "\n",
    "HallOfFame.__repr__ = _hof_repr"
   ]
  },
  {
   "cell_type": "code",
   "execution_count": null,
   "metadata": {},
   "outputs": [],
   "source": [
    "# export\n",
    "class ConcurrentMap:\n",
    "    \"\"\"Helper class to provide `map` function using multiple cores.\"\"\"\n",
    "    def __init__(self, n_jobs):\n",
    "        \"\"\"Create a ConcurrentMap instance, the map attribute can be used as map function in toolbox.\n",
    "        \n",
    "        **Parameters**\n",
    "        \n",
    "        - n_jobs: number of cores to use. If n_jobs<0, the number will set to the number of cores available.\n",
    "        \"\"\"\n",
    "        self.n_jobs = n_jobs\n",
    "        if n_jobs < 0:\n",
    "            self.n_jobs = os.cpu_count()\n",
    "        if n_jobs == 1:\n",
    "            self._executor = None\n",
    "            self.map = map\n",
    "        else:\n",
    "            if 'Windows' in platform.system():\n",
    "                warnings.warn(\"Windows doesn't support fork operation, multi-processing map is disabled.\", RuntimeWarning)\n",
    "                self._executor = None\n",
    "                self.map = map\n",
    "                self.n_jobs = 1\n",
    "            else:\n",
    "                self._executor = ProcessPoolExecutor(n_jobs)\n",
    "                # Retrive the fitness values after execution is done.\n",
    "                def lmap(*args, **kwargs):\n",
    "                    return list(self._executor.map(*args, **kwargs))\n",
    "                self.map = lmap\n",
    "\n",
    "    def __enter__(self):\n",
    "        if self.is_closed:\n",
    "            self._executor = ProcessPoolExecutor(self.n_jobs)\n",
    "            self.map = self._executor.map\n",
    "        return self.map\n",
    "\n",
    "    def __exit__(self, exc_type, exc_val, exc_tb):\n",
    "        self.close()\n",
    "\n",
    "    @property\n",
    "    def is_closed(self):\n",
    "        if self.n_jobs > 1:\n",
    "            return self._executor._shutdown_thread\n",
    "        else:\n",
    "            return False\n",
    "\n",
    "    def close(self):\n",
    "        \"Close the pool for the `map` function.\"\n",
    "        if self._executor is not None:\n",
    "            self._executor.shutdown()"
   ]
  },
  {
   "cell_type": "code",
   "execution_count": null,
   "metadata": {},
   "outputs": [],
   "source": [
    "# ProcessPoolExecutor does not support lambda function, so the function need to defined explicitly.\n",
    "def addone(x): return x+1\n",
    "\n",
    "cmap = ConcurrentMap(2)\n",
    "\n",
    "with cmap:\n",
    "    print(list(cmap.map(addone,range(10))))"
   ]
  },
  {
   "cell_type": "code",
   "execution_count": null,
   "metadata": {},
   "outputs": [],
   "source": [
    "with cmap as m:\n",
    "    print(list(m(addone,range(10))))"
   ]
  },
  {
   "cell_type": "code",
   "execution_count": null,
   "metadata": {},
   "outputs": [],
   "source": [
    "assert cmap.is_closed"
   ]
  },
  {
   "cell_type": "code",
   "execution_count": null,
   "metadata": {},
   "outputs": [],
   "source": [
    "with ConcurrentMap(2) as pmap:\n",
    "    a = list(pmap(addone,range(10)))\n",
    "with ConcurrentMap(1) as pmap:\n",
    "    b = list(pmap(addone,range(10)))\n",
    "assert all((i==j for i,j in zip(a,b)))"
   ]
  },
  {
   "cell_type": "code",
   "execution_count": null,
   "metadata": {},
   "outputs": [],
   "source": [
    "show_doc(ConcurrentMap.__init__)\n",
    "show_doc(ConcurrentMap.close)"
   ]
  },
  {
   "cell_type": "code",
   "execution_count": null,
   "metadata": {},
   "outputs": [],
   "source": [
    "#export\n",
    "from eptune.parameter import *\n",
    "import json\n",
    "def parameters2json(obj):\n",
    "    if isinstance(obj, (tuple, list)):\n",
    "        return json.dumps([repr(i) for i in obj])\n",
    "    elif isinstance(obj, dict):\n",
    "        return json.dumps({k:repr(v) for k,v in obj.items()})\n",
    "    elif isinstance(obj, Parameter):\n",
    "        return json.dumps(repr(obj))\n",
    "\n",
    "def json2parameters(string):\n",
    "    obj = json.loads(string)\n",
    "    if isinstance(obj, list):\n",
    "        return [eval(i) for i in obj]\n",
    "    elif isinstance(obj, dict):\n",
    "        return {k:eval(v) for k,v in obj.items()}\n",
    "    else:\n",
    "        return eval(obj)"
   ]
  },
  {
   "cell_type": "code",
   "execution_count": null,
   "metadata": {},
   "outputs": [],
   "source": [
    "params = [IntegerParameter([1,6],'t')]\n",
    "assert repr(json2parameters(parameters2json(params)))==repr(params)\n",
    "params"
   ]
  },
  {
   "cell_type": "code",
   "execution_count": null,
   "metadata": {},
   "outputs": [],
   "source": [
    "params = IntegerParameter([1,6],'t')\n",
    "assert repr(json2parameters(parameters2json(params)))==repr(params)\n",
    "params"
   ]
  },
  {
   "cell_type": "code",
   "execution_count": null,
   "metadata": {},
   "outputs": [],
   "source": [
    "params = {'test':IntegerParameter([1,6],'t')}\n",
    "assert repr(json2parameters(parameters2json(params)))==repr(params)\n",
    "params"
   ]
  },
  {
   "cell_type": "code",
   "execution_count": null,
   "metadata": {},
   "outputs": [],
   "source": [
    "#hide\n",
    "notebook2script()"
   ]
  },
  {
   "cell_type": "code",
   "execution_count": null,
   "metadata": {},
   "outputs": [],
   "source": []
  }
 ],
 "metadata": {
  "kernelspec": {
   "display_name": "Python 3",
   "language": "python",
   "name": "python3"
  }
 },
 "nbformat": 4,
 "nbformat_minor": 2
}
