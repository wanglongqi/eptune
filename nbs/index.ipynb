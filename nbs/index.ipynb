{
 "cells": [
  {
   "cell_type": "code",
   "execution_count": null,
   "metadata": {},
   "outputs": [],
   "source": [
    "#hide\n",
    "from eptune import *\n",
    "%pylab inline"
   ]
  },
  {
   "cell_type": "markdown",
   "metadata": {},
   "source": [
    "# eptune\n",
    "\n",
    "> eptune (evolutionary parameter tuning) is a python package trying to use evolutionary computation algorithms to do parameter tuning."
   ]
  },
  {
   "cell_type": "markdown",
   "metadata": {},
   "source": [
    "![CI](https://github.com/wanglongqi/eptune/workflows/CI/badge.svg)"
   ]
  },
  {
   "cell_type": "markdown",
   "metadata": {},
   "source": [
    "![Logo](https://github.com/wanglongqi/eptune/raw/master/nbs/eptune.png)"
   ]
  },
  {
   "cell_type": "markdown",
   "metadata": {},
   "source": [
    "## Install"
   ]
  },
  {
   "cell_type": "markdown",
   "metadata": {},
   "source": [
    "`pip install eptune`"
   ]
  },
  {
   "cell_type": "markdown",
   "metadata": {},
   "source": [
    "## How to use"
   ]
  },
  {
   "cell_type": "markdown",
   "metadata": {},
   "source": [
    "Using following lines can fine tune MNIST dataset with 5-Fold CV performance using the `qtuneSimple` function."
   ]
  },
  {
   "cell_type": "code",
   "execution_count": null,
   "metadata": {},
   "outputs": [],
   "source": [
    "from eptune.sample_cases import DigitsCV\n",
    "from eptune.quick import qtuneSimple\n",
    "from eptune.parameter import *\n",
    "from sklearn.svm import SVC\n",
    "\n",
    "# Prameter space to search\n",
    "params = [\n",
    "    LogFloatParameter([0.01, 1e4], 'C'),\n",
    "    CategoricalParameter(['rbf'], 'kernel'),\n",
    "    LogFloatParameter([1e-6, 1e4], 'gamma')\n",
    "]\n",
    "\n",
    "# Define objective function\n",
    "cv_svc_digits = DigitsCV(SVC())\n",
    "\n",
    "\n",
    "def evaluate(params):\n",
    "    return cv_svc_digits.cv_loss_with_params(cv=5, **params)\n",
    "\n",
    "\n",
    "# Call `qtuneSimple`\n",
    "population, logbook, hof = qtuneSimple(params,\n",
    "                                       evaluate,\n",
    "                                       n_pop=10,\n",
    "                                       n_jobs=10,\n",
    "                                       mutpb=0.6,\n",
    "                                       cxpb=0.8,\n",
    "                                       seed=42)\n",
    "\n",
    "# Plot the logbook if needed\n",
    "fig = logbook.plot(['min', 'avg'])"
   ]
  },
  {
   "cell_type": "markdown",
   "metadata": {},
   "source": [
    "The best parameters are stored in `HallofFame` object:"
   ]
  },
  {
   "cell_type": "code",
   "execution_count": null,
   "metadata": {},
   "outputs": [],
   "source": [
    "hof"
   ]
  },
  {
   "cell_type": "markdown",
   "metadata": {},
   "source": [
    "## More control"
   ]
  },
  {
   "cell_type": "markdown",
   "metadata": {},
   "source": [
    "If you want more control, you can check:\n",
    "1. `eptune.sklearn` module provides `ScikitLearner` or `ScikitLearnerCV` for fine tune parameter of estimators with scikit learn API. Examples are also provided in the documentation.\n",
    "2. `eptune.algorithms` module provides algorithms to access the DEAP framework directly."
   ]
  },
  {
   "cell_type": "code",
   "execution_count": null,
   "metadata": {},
   "outputs": [],
   "source": []
  }
 ],
 "metadata": {
  "kernelspec": {
   "display_name": "Python 3",
   "language": "python",
   "name": "python3"
  }
 },
 "nbformat": 4,
 "nbformat_minor": 2
}
