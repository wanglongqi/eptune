{
 "cells": [
  {
   "cell_type": "code",
   "execution_count": null,
   "metadata": {},
   "outputs": [],
   "source": [
    "#hide\n",
    "%load_ext autoreload\n",
    "%autoreload 2"
   ]
  },
  {
   "cell_type": "code",
   "execution_count": null,
   "metadata": {},
   "outputs": [],
   "source": [
    "# default_exp crossover"
   ]
  },
  {
   "cell_type": "markdown",
   "metadata": {},
   "source": [
    "# Crossover\n",
    "\n",
    "Some crossover functions for parameter tuning"
   ]
  },
  {
   "cell_type": "code",
   "execution_count": null,
   "metadata": {},
   "outputs": [],
   "source": [
    "#hide\n",
    "from nbdev.showdoc import *\n",
    "from nbdev.export import notebook2script"
   ]
  },
  {
   "cell_type": "code",
   "execution_count": null,
   "metadata": {},
   "outputs": [],
   "source": [
    "#export\n",
    "import random\n",
    "\n",
    "def cxDictUniform(ind1, ind2, indpb):\n",
    "    \"Cross over function that changes the corresponding value of two individual at the probability of `indpb`.\"\n",
    "    for key in ind1:\n",
    "        if key in ind2:\n",
    "            if random.random() < indpb:\n",
    "                ind1[key], ind2[key] = ind2[key], ind1[key]\n",
    "    return ind1, ind2"
   ]
  },
  {
   "cell_type": "markdown",
   "metadata": {},
   "source": [
    "`cxBlender` calculate $\\gamma$ as:\n",
    "$$\\gamma = (1+2\\alpha)*\\mathrm{random} - \\alpha$$"
   ]
  },
  {
   "cell_type": "code",
   "execution_count": null,
   "metadata": {},
   "outputs": [],
   "source": [
    "#export\n",
    "def cxDictBlender(ind1, ind2, alpha, fix_invalid=False):\n",
    "    \"\"\"Dictionary version of cxBlender.\n",
    "    \n",
    "    Executes a blend crossover that modify in-place the input individuals.\n",
    "    The blend crossover expects `sequence` individuals of floating point numbers.\n",
    "    \n",
    "    -  alpha: Extent of the interval in which the new values can be drawn for each attribute on both side of the parents' attributes.\n",
    "    \"\"\"\n",
    "    for key in ind1:\n",
    "        if key in ind2:\n",
    "            gamma = (1. + 2. * alpha) * random.random() - alpha\n",
    "            x1, x2 = ind1[key], ind2[key]\n",
    "            ind1[key] = (1. - gamma) * x1 + gamma * x2\n",
    "            ind2[key] = gamma * x1 + (1. - gamma) * x2\n",
    "    if fix_invalid:\n",
    "        for p in ind1.params:\n",
    "            ind1[p.name] = p.is_valid(ind1[p.name], fix=True)\n",
    "        for p in ind2.params:\n",
    "            ind2[p.name] = p.is_valid(ind2[p.name], fix=True)\n",
    "            \n",
    "    return ind1, ind2\n",
    "\n",
    "def cxDictBlenderIfCan(ind1, ind2, alpha, indpb, fix_invalid=False):\n",
    "    \"\"\"A mixed version of `cxDictUniform` and `cxDictBlender`. For floating numbers, cxBlender will be applied;\n",
    "    for other types, cxUniform will be applied.\"\"\"\n",
    "    for key in ind1:\n",
    "        if key in ind2:\n",
    "            x1, x2 = ind1[key], ind2[key]\n",
    "            try:\n",
    "                x1*4.2, x2*4.2\n",
    "                gamma = (1. + 2. * alpha) * random.random() - alpha\n",
    "                ind1[key] = (1. - gamma) * x1 + gamma * x2\n",
    "                ind2[key] = gamma * x1 + (1. - gamma) * x2\n",
    "            except TypeError:\n",
    "                if random.random() < indpb:\n",
    "                    ind1[key], ind2[key] = ind2[key], ind1[key]\n",
    "    if fix_invalid:\n",
    "        for p in ind1.params:\n",
    "            ind1[p.name] = p.is_valid(ind1[p.name], fix=True)\n",
    "        for p in ind2.params:\n",
    "            ind2[p.name] = p.is_valid(ind2[p.name], fix=True)\n",
    "            \n",
    "            \n",
    "    return ind1, ind2"
   ]
  },
  {
   "cell_type": "code",
   "execution_count": null,
   "metadata": {},
   "outputs": [],
   "source": [
    "%%timeit\n",
    "cxDictBlender({'C':3, 'lambda':3.11},{'C':5,'lambda':6.28},0.2)"
   ]
  },
  {
   "cell_type": "code",
   "execution_count": null,
   "metadata": {},
   "outputs": [],
   "source": [
    "cxDictBlender({'C':3, 'lambda':3.11},{'C':5,'lambda':6.28},0.2)"
   ]
  },
  {
   "cell_type": "code",
   "execution_count": null,
   "metadata": {},
   "outputs": [],
   "source": [
    "%%timeit\n",
    "cxDictBlenderIfCan({'C':3, 'kernel':'rbf', 'lambda':3.11},{'C':5,'kernel':'poly','lambda':6.28},0.2,0.6)"
   ]
  },
  {
   "cell_type": "code",
   "execution_count": null,
   "metadata": {},
   "outputs": [],
   "source": [
    "cxDictBlenderIfCan({'C':3, 'kernel':'rbf', 'lambda':3.11},{'C':5,'kernel':'poly','lambda':6.28},0.2,0.6)"
   ]
  },
  {
   "cell_type": "code",
   "execution_count": null,
   "metadata": {},
   "outputs": [],
   "source": [
    "#hide\n",
    "notebook2script()"
   ]
  },
  {
   "cell_type": "code",
   "execution_count": null,
   "metadata": {},
   "outputs": [],
   "source": []
  }
 ],
 "metadata": {
  "kernelspec": {
   "display_name": "Python 3",
   "language": "python",
   "name": "python3"
  }
 },
 "nbformat": 4,
 "nbformat_minor": 2
}
