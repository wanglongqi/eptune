{
 "cells": [
  {
   "cell_type": "code",
   "execution_count": null,
   "metadata": {},
   "outputs": [],
   "source": [
    "#hide\n",
    "%load_ext autoreload\n",
    "%autoreload 2"
   ]
  },
  {
   "cell_type": "code",
   "execution_count": null,
   "metadata": {},
   "outputs": [],
   "source": [
    "# default_exp parameter"
   ]
  },
  {
   "cell_type": "markdown",
   "metadata": {},
   "source": [
    "# Parameter\n",
    "\n",
    "Define parameter for meta-data, so algorithm can do cross section and mutation accordingly."
   ]
  },
  {
   "cell_type": "code",
   "execution_count": null,
   "metadata": {},
   "outputs": [],
   "source": [
    "#hide\n",
    "from nbdev.showdoc import *\n",
    "from nbdev.export import notebook2script\n",
    "import numpy as np\n",
    "%pylab inline"
   ]
  },
  {
   "cell_type": "code",
   "execution_count": null,
   "metadata": {},
   "outputs": [],
   "source": [
    "#export\n",
    "import abc\n",
    "from random import random, randint, normalvariate as randn\n",
    "from math import log10\n",
    "\n",
    "class Parameter:\n",
    "    \"Base class for parameter.\"\n",
    "    def __init__(self, values, name=None, default_value=None):\n",
    "        if name is None:\n",
    "            self.name = str(self.__class__.__name__)\n",
    "        else:\n",
    "            self.name = str(name)\n",
    "        self.set_values(values)\n",
    "        if default_value is None:\n",
    "            self.default_value = self.get_rand_value()\n",
    "        else:\n",
    "            self.default_value = default_value\n",
    "\n",
    "    def __repr__(self):\n",
    "        return f'{self.__class__.__name__}(values={self.values}, name=\"{self.name}\", default_value={self.default_value})'\n",
    "\n",
    "    @abc.abstractmethod\n",
    "    def set_values(self, values):\n",
    "        raise NotImplementedError('Not implemented')\n",
    "\n",
    "    @abc.abstractmethod\n",
    "    def get_rand_value(self, *args, **kwargs):\n",
    "        raise NotImplementedError('Not implemented')\n",
    "\n",
    "    def __next__(self):\n",
    "        return self.get_rand_value()\n",
    "    \n",
    "    @abc.abstractmethod\n",
    "    def is_valid(self, value, fix=False):\n",
    "        raise NotImplementedError('Not implemented')"
   ]
  },
  {
   "cell_type": "code",
   "execution_count": null,
   "metadata": {},
   "outputs": [],
   "source": [
    "#export\n",
    "class OrderedParameter(Parameter):\n",
    "    \"Base class for parameter that is ordered, such as numerical parameters.\"\n",
    "    @abc.abstractmethod\n",
    "    def get_value(self, ratio=0):\n",
    "        raise NotImplementedError('Not implemented')"
   ]
  },
  {
   "cell_type": "code",
   "execution_count": null,
   "metadata": {},
   "outputs": [],
   "source": [
    "#export\n",
    "class IntegerParameter(OrderedParameter):\n",
    "    \"Integer pramameter with a range.\"\n",
    "    def set_values(self, values):\n",
    "        if len(values) != 2:\n",
    "            raise ValueError(\n",
    "                f\"values should have and only have two elements as lower and upper bound of the value\"\n",
    "            )\n",
    "        self.values = sorted(values)\n",
    "\n",
    "    def get_rand_value(self):\n",
    "        return randint(*self.values)\n",
    "\n",
    "    def get_value(self, ratio=0):\n",
    "        if ratio > 1: ratio = 1\n",
    "        if ratio < 0: ratio = 0\n",
    "        return self.values[0] + round(\n",
    "            (self.values[1] - self.values[0]) * ratio)\n",
    "    \n",
    "    def is_valid(self, value, fix=False):\n",
    "        if value>=self.values[0]:\n",
    "            if value <= self.values[1]:\n",
    "                if fix:\n",
    "                    return value\n",
    "                else:\n",
    "                    return True\n",
    "            else:\n",
    "                if fix:\n",
    "                    return self.values[1]\n",
    "                else:\n",
    "                    return False\n",
    "        else:\n",
    "            if fix:\n",
    "                return self.values[0]\n",
    "            else:\n",
    "                return False"
   ]
  },
  {
   "cell_type": "code",
   "execution_count": null,
   "metadata": {},
   "outputs": [],
   "source": [
    "intp = IntegerParameter([0, 10])\n",
    "assert intp.get_value(0.53) == 5\n",
    "assert intp.is_valid(-2.3) is False\n",
    "assert intp.is_valid(10.3, fix=True)==10"
   ]
  },
  {
   "cell_type": "code",
   "execution_count": null,
   "metadata": {},
   "outputs": [],
   "source": [
    "#export\n",
    "import bisect\n",
    "class InListNumericParameter(OrderedParameter):\n",
    "    \"\"\"Numerical pramameter with a known set of values, and the values are ordered.\n",
    "    Otherwise, it becomes a categorical parameter.\"\"\"\n",
    "    def set_values(self, values):\n",
    "        self.values = sorted(values)\n",
    "        self._len = len(self.values)\n",
    "\n",
    "    def get_rand_value(self):\n",
    "        return self.values[randint(1, self._len) - 1]\n",
    "\n",
    "    def get_value(self, ratio=0):\n",
    "        if ratio > 1: ratio = 1\n",
    "        if ratio < 0: ratio = 0\n",
    "        return self.values[round(self._len * ratio)]\n",
    "    \n",
    "    def is_valid(self, value, fix=False):\n",
    "        if value in self.values:\n",
    "            if fix:\n",
    "                return value\n",
    "            else:\n",
    "                return True\n",
    "        else:\n",
    "            if fix:\n",
    "                idx = bisect.bisect(self.values, value)\n",
    "                idx = idx-1 if idx==self._len else idx\n",
    "                return self.values[idx]\n",
    "            else:\n",
    "                return False"
   ]
  },
  {
   "cell_type": "code",
   "execution_count": null,
   "metadata": {},
   "outputs": [],
   "source": [
    "inlistp = InListNumericParameter(range(30))\n",
    "assert inlistp.get_value(0.5) == 15\n",
    "inlistp.get_rand_value()\n",
    "assert inlistp.is_valid(-2.3) is False\n",
    "assert inlistp.is_valid(10.3, fix=True)==11"
   ]
  },
  {
   "cell_type": "code",
   "execution_count": null,
   "metadata": {},
   "outputs": [],
   "source": [
    "#export\n",
    "class FloatParameter(OrderedParameter):\n",
    "    \"Floating number parameter with a range.\"\n",
    "\n",
    "    def set_values(self, values):\n",
    "        if len(values) != 2:\n",
    "            raise ValueError(\n",
    "                f\"values should have and only have two elements as lower and upper bound of the value\"\n",
    "            )\n",
    "        self.values = sorted(values)\n",
    "        self._range = self.values[1] - self.values[0]\n",
    "        self._left = self.values[0]\n",
    "\n",
    "    def get_rand_value(self, a=None, b=None):\n",
    "        if a is None or b is None:\n",
    "            return random() * self._range + self._left\n",
    "        else:\n",
    "            return random() * abs(a - b) + a if a < b else b\n",
    "\n",
    "    def get_value(self, ratio=0):\n",
    "        if ratio > 1: ratio = 1\n",
    "        if ratio < 0: ratio = 0\n",
    "        return self._range * ratio + self._left\n",
    "\n",
    "    def is_valid(self, value, fix=False):\n",
    "        if value >= self.values[0]:\n",
    "            if value <= self.values[1]:\n",
    "                if fix:\n",
    "                    return value\n",
    "                else:\n",
    "                    return True\n",
    "            else:\n",
    "                if fix:\n",
    "                    return self.values[1]\n",
    "                else:\n",
    "                    return False\n",
    "        else:\n",
    "            if fix:\n",
    "                return self.values[0]\n",
    "            else:\n",
    "                return False"
   ]
  },
  {
   "cell_type": "code",
   "execution_count": null,
   "metadata": {},
   "outputs": [],
   "source": [
    "floatp = FloatParameter([0, 10])\n",
    "assert np.isclose(floatp.get_value(0.53), 5.3)\n",
    "assert floatp.is_valid(-2.3) is False\n",
    "assert floatp.is_valid(10.3, fix=True)==10"
   ]
  },
  {
   "cell_type": "code",
   "execution_count": null,
   "metadata": {},
   "outputs": [],
   "source": [
    "#export\n",
    "class LogFloatParameter(OrderedParameter):\n",
    "    \"\"\"Floating number parameter with a range, but the sampling is in a logrithmic scale.\n",
    "    So lower paramter range is sampled more frequentyly than higher range.\n",
    "    \n",
    "    - Note: the parameter range must be positive, as `log` of negative number is not a real number.\n",
    "    \"\"\"\n",
    "    def __init__(self, values, name=None, default_value=None):\n",
    "        super().__init__(values, name, default_value=default_value)\n",
    "\n",
    "    def set_values(self, values):\n",
    "        if len(values) != 2:\n",
    "            raise ValueError(\n",
    "                f\"values should have and only have two elements as lower and upper bound of the value\"\n",
    "            )\n",
    "        self.values = sorted(values)\n",
    "        self._left = log10(self.values[0])\n",
    "        self._right = log10(self.values[1])\n",
    "        self._range = self._right - self._left\n",
    "\n",
    "    def get_rand_value(self, a=None, b=None):\n",
    "        if a is None or b is None:\n",
    "            return 10**(random() * self._range + self._left)\n",
    "        else:\n",
    "            a = log10(a)\n",
    "            b = log10(b)\n",
    "            return 10**(random() * abs(a - b) + a if a < b else b)\n",
    "\n",
    "    def get_value(self, ratio=0):\n",
    "        if ratio > 1: ratio = 1\n",
    "        if ratio < 0: ratio = 0\n",
    "        a = self._left\n",
    "        b = self._right\n",
    "        return 10**(ratio * abs(a - b) + a if a < b else b)\n",
    "\n",
    "    def is_valid(self, value, fix=False):\n",
    "        if value >= self.values[0]:\n",
    "            if value <= self.values[1]:\n",
    "                if fix:\n",
    "                    return value\n",
    "                else:\n",
    "                    return True\n",
    "            else:\n",
    "                if fix:\n",
    "                    return self.values[1]\n",
    "                else:\n",
    "                    return False\n",
    "        else:\n",
    "            if fix:\n",
    "                return self.values[0]\n",
    "            else:\n",
    "                return False"
   ]
  },
  {
   "cell_type": "code",
   "execution_count": null,
   "metadata": {},
   "outputs": [],
   "source": [
    "logp = LogFloatParameter([1, 100])\n",
    "assert logp.get_value(0.5) == 10\n",
    "assert logp.is_valid(-2.3) is False\n",
    "assert logp.is_valid(103, fix=True)==100\n",
    "logp.get_rand_value(1, 10)"
   ]
  },
  {
   "cell_type": "markdown",
   "metadata": {},
   "source": [
    "`LogFloatParameter` samples values uniformly in a log scale.\n",
    "The upper and lower bounds should both be positive.\n",
    "The lower end will be sampled more than the higher end, as shown below:"
   ]
  },
  {
   "cell_type": "code",
   "execution_count": null,
   "metadata": {},
   "outputs": [],
   "source": [
    "plot(sorted([logp.get_rand_value() for i in range(1000)]))"
   ]
  },
  {
   "cell_type": "code",
   "execution_count": null,
   "metadata": {},
   "outputs": [],
   "source": [
    "#export\n",
    "class CategoricalParameter(Parameter):\n",
    "    \"Categorical parameter\"\n",
    "    def set_values(self, values):\n",
    "        self.values = list(set(values))\n",
    "        self._len = len(self.values)\n",
    "\n",
    "    def get_rand_value(self):\n",
    "        return self.values[randint(1, self._len) - 1]\n",
    "    \n",
    "    def is_valid(self, value, fix=False):\n",
    "        if value in self.values:\n",
    "            if fix:\n",
    "                return value\n",
    "            else:\n",
    "                return True\n",
    "        else:\n",
    "            if fix:\n",
    "                return self.values[randint(1, self._len) - 1]\n",
    "            else:\n",
    "                return False"
   ]
  },
  {
   "cell_type": "code",
   "execution_count": null,
   "metadata": {},
   "outputs": [],
   "source": [
    "catp = CategoricalParameter(['a', 'b', 'c'])\n",
    "assert catp.get_rand_value() in ['a', 'b', 'c']\n",
    "assert catp.is_valid('dd') is False\n",
    "assert catp.is_valid('a')\n",
    "assert catp.is_valid(103, fix=True) in 'abc'"
   ]
  },
  {
   "cell_type": "code",
   "execution_count": null,
   "metadata": {},
   "outputs": [],
   "source": [
    "#export\n",
    "class BooleanParameter(Parameter):\n",
    "    \"Boolean parameter\"\n",
    "    def __init__(self, values=(False, True), name=None, default_value=None):\n",
    "        super().__init__(values, name=name, default_value=default_value)\n",
    "        \n",
    "    def set_values(self, values):\n",
    "        if len(values)!=2:\n",
    "            raise ValueError('Boolean parameter should have and only have two values.')\n",
    "        self.values = list(values)\n",
    "\n",
    "    def get_rand_value(self):\n",
    "        return self.values[randint(0, 1)]\n",
    "    \n",
    "    def is_valid(self, value, fix=False):\n",
    "        if value in self.values:\n",
    "            if fix:\n",
    "                return value\n",
    "            else:\n",
    "                return True\n",
    "        else:\n",
    "            if fix:\n",
    "                return self.values[randint(0, 1)]\n",
    "            else:\n",
    "                return False"
   ]
  },
  {
   "cell_type": "code",
   "execution_count": null,
   "metadata": {},
   "outputs": [],
   "source": [
    "boolp = BooleanParameter(name='bool')\n",
    "assert boolp.get_rand_value() in [True, False]\n",
    "assert boolp.is_valid('1') is False\n",
    "assert boolp.is_valid(False)\n",
    "assert boolp.is_valid(103, fix=True) in [True, False]"
   ]
  },
  {
   "cell_type": "code",
   "execution_count": null,
   "metadata": {},
   "outputs": [],
   "source": [
    "#export\n",
    "class CallableParameter(Parameter):\n",
    "    \"\"\"The values of the parameter is a callable. When execute the values attribute,\n",
    "    the callable will return the possible value of the parameter.\"\"\"\n",
    "    def set_values(self, values):\n",
    "        if callable(values):\n",
    "            self.values = values\n",
    "        else:\n",
    "            raise ValueError('values need to be a callable object.')\n",
    "\n",
    "    def get_rand_value(self, *args, **kwargs):\n",
    "        return self.values(*args, **kwargs)"
   ]
  },
  {
   "cell_type": "code",
   "execution_count": null,
   "metadata": {},
   "outputs": [],
   "source": [
    "from functools import partial\n",
    "callp = CallableParameter(partial(randn, 100, 1))\n",
    "callp.get_rand_value()"
   ]
  },
  {
   "cell_type": "markdown",
   "metadata": {},
   "source": [
    "## How to use these parameter classes\n",
    "In short, because `__next__` method is defined for the parameter classes, it can be treat as a generator. A typical example of these classes can be as follows:"
   ]
  },
  {
   "cell_type": "code",
   "execution_count": null,
   "metadata": {},
   "outputs": [],
   "source": [
    "params = [LogFloatParameter([0.1,1000],'C'),\n",
    "          CategoricalParameter(['poly', 'rbf', 'sigmoid'],\"kernel\"),\n",
    "          LogFloatParameter([1e-6,1e6],'gamma')\n",
    "         ]"
   ]
  },
  {
   "cell_type": "code",
   "execution_count": null,
   "metadata": {},
   "outputs": [],
   "source": [
    "{p.name:next(p) for p in params}"
   ]
  },
  {
   "cell_type": "code",
   "execution_count": null,
   "metadata": {},
   "outputs": [],
   "source": [
    "#hide\n",
    "notebook2script()"
   ]
  },
  {
   "cell_type": "code",
   "execution_count": null,
   "metadata": {},
   "outputs": [],
   "source": []
  }
 ],
 "metadata": {
  "kernelspec": {
   "display_name": "Python 3",
   "language": "python",
   "name": "python3"
  }
 },
 "nbformat": 4,
 "nbformat_minor": 2
}
