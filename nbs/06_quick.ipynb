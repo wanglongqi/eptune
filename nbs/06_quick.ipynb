{
 "cells": [
  {
   "cell_type": "code",
   "execution_count": null,
   "metadata": {},
   "outputs": [],
   "source": [
    "#hide\n",
    "%load_ext autoreload\n",
    "%autoreload 2\n",
    "%pylab inline"
   ]
  },
  {
   "cell_type": "code",
   "execution_count": null,
   "metadata": {},
   "outputs": [],
   "source": [
    "# default_exp quick"
   ]
  },
  {
   "cell_type": "markdown",
   "metadata": {},
   "source": [
    "# Quick\n",
    "\n",
    "This module provides some functions with a default toolbox for parameter tuning."
   ]
  },
  {
   "cell_type": "code",
   "execution_count": null,
   "metadata": {},
   "outputs": [],
   "source": [
    "#hide\n",
    "from nbdev.showdoc import *\n",
    "from nbdev.export import notebook2script"
   ]
  },
  {
   "cell_type": "code",
   "execution_count": null,
   "metadata": {},
   "outputs": [],
   "source": [
    "#export\n",
    "from eptune.algorithms import eaSimpleWithExtraLog\n",
    "from eptune.utils import ConcurrentMap\n",
    "from eptune.crossover import cxDictUniform\n",
    "from eptune.mutation import mutDictRand\n",
    "from deap import base, creator, tools\n",
    "from functools import partial\n",
    "import random\n",
    "import numpy\n",
    "\n",
    "default_stats = tools.Statistics(lambda ind: ind.fitness.values)\n",
    "default_stats.register(\"avg\", numpy.mean, axis=0)\n",
    "default_stats.register(\"std\", numpy.std, axis=0)\n",
    "default_stats.register(\"min\", numpy.min, axis=0)\n",
    "default_stats.register(\"max\", numpy.max, axis=0)\n",
    "\n",
    "def qtuneSimple(params,\n",
    "                evaluate,\n",
    "                n_pop=10,\n",
    "                cxpb=0.6,\n",
    "                mutpb=0.6,\n",
    "                ngen=10,\n",
    "                hof=2,\n",
    "                elitism=True,\n",
    "                stats=default_stats,\n",
    "                crossover=partial(cxDictUniform, indpb=0.6),\n",
    "                select=partial(tools.selTournament, tournsize=3),\n",
    "                mutate=partial(mutDictRand, indpb=0.7),\n",
    "                n_jobs=1,\n",
    "                seed=None,\n",
    "                verbose=__debug__):\n",
    "    \"\"\"Quick tune using `eaSimpleWithExtraLog`. Just provide parameter list and function to tune.\n",
    "    The function given should accept keywords arguments in the parameter list.\n",
    "    Check examples below for more information.\"\"\"\n",
    "    if seed is not None:\n",
    "        random.seed(seed)\n",
    "\n",
    "    def initParams(cls):\n",
    "        return cls({i.name: next(i) for i in cls.params})\n",
    "\n",
    "    if hof > 0:\n",
    "        hof = tools.HallOfFame(hof)\n",
    "    else:\n",
    "        hof = None\n",
    "\n",
    "    creator.create(\"eptLoss\", base.Fitness, weights=(-1.0, ))\n",
    "    creator.create(\"eptParameters\",\n",
    "                   dict,\n",
    "                   params=params,\n",
    "                   fitness=creator.eptLoss)\n",
    "    toolbox = base.Toolbox()\n",
    "    toolbox.register(\"individual\", initParams, creator.eptParameters)\n",
    "    toolbox.register(\"population\", tools.initRepeat, list, toolbox.individual)\n",
    "    toolbox.register('evaluate', evaluate)\n",
    "    toolbox.register(\"select\", select)\n",
    "    toolbox.register(\"mate\", crossover)\n",
    "    toolbox.register(\"mutate\", mutate, params=params)\n",
    "    with ConcurrentMap(n_jobs) as pmap:\n",
    "        toolbox.register('map', pmap)\n",
    "        population, logbook = eaSimpleWithExtraLog(toolbox.population(n_pop),\n",
    "                                   toolbox,\n",
    "                                   cxpb=cxpb,\n",
    "                                   mutpb=mutpb,\n",
    "                                   ngen=ngen,\n",
    "                                   halloffame=hof,\n",
    "                                   elitism=elitism,\n",
    "                                   stats=stats,\n",
    "                                   verbose=verbose)\n",
    "    del creator.eptLoss\n",
    "    del creator.eptParameters\n",
    "    return population, logbook, hof"
   ]
  },
  {
   "cell_type": "markdown",
   "metadata": {},
   "source": [
    "## Example of using `qtuneSimple`"
   ]
  },
  {
   "cell_type": "code",
   "execution_count": null,
   "metadata": {},
   "outputs": [],
   "source": [
    "from eptune.parameter import *\n",
    "params = [\n",
    "    FloatParameter([-100, 200], 'x'),\n",
    "    FloatParameter([-100, 200], 'y')\n",
    "]\n",
    "\n",
    "\n",
    "def evaluate(params):\n",
    "    return [params['x']**2+params['y']**2]\n"
   ]
  },
  {
   "cell_type": "code",
   "execution_count": null,
   "metadata": {},
   "outputs": [],
   "source": [
    "%%time\n",
    "popu, logbook, hof = qtuneSimple(params,evaluate,cxpb=0.6,\n",
    "                            n_pop=30, mutpb=0.6,\n",
    "                            ngen=500, elitism=False,\n",
    "                            seed=42, verbose=False)\n",
    "fig = logbook.plot(['min','avg'])"
   ]
  },
  {
   "cell_type": "code",
   "execution_count": null,
   "metadata": {},
   "outputs": [],
   "source": [
    "hof"
   ]
  },
  {
   "cell_type": "code",
   "execution_count": null,
   "metadata": {},
   "outputs": [],
   "source": [
    "%%time\n",
    "popu, logbook, hof = qtuneSimple(params,evaluate,cxpb=0.6,\n",
    "                            n_pop=30, mutpb=0.6,\n",
    "                            ngen=500, elitism=True,\n",
    "                            seed=42, verbose=False)\n",
    "fig = logbook.plot(['min','avg'])"
   ]
  },
  {
   "cell_type": "code",
   "execution_count": null,
   "metadata": {},
   "outputs": [],
   "source": [
    "hof"
   ]
  },
  {
   "cell_type": "code",
   "execution_count": null,
   "metadata": {},
   "outputs": [],
   "source": []
  }
 ],
 "metadata": {
  "kernelspec": {
   "display_name": "Python 3",
   "language": "python",
   "name": "python3"
  }
 },
 "nbformat": 4,
 "nbformat_minor": 4
}
