{
 "cells": [
  {
   "cell_type": "code",
   "execution_count": null,
   "metadata": {},
   "outputs": [],
   "source": [
    "#hide\n",
    "%load_ext autoreload\n",
    "%autoreload 2"
   ]
  },
  {
   "cell_type": "code",
   "execution_count": null,
   "metadata": {},
   "outputs": [],
   "source": [
    "# default_exp sample_cases"
   ]
  },
  {
   "cell_type": "markdown",
   "metadata": {},
   "source": [
    "# Sample Cases\n",
    "\n",
    "This module contains some sample cases used to develop this package."
   ]
  },
  {
   "cell_type": "code",
   "execution_count": null,
   "metadata": {},
   "outputs": [],
   "source": [
    "#hide\n",
    "from nbdev.showdoc import *\n",
    "from nbdev.export import notebook2script"
   ]
  },
  {
   "cell_type": "markdown",
   "metadata": {},
   "source": [
    "## Example of using `ScikitLearner`\n",
    "\n",
    "### Inherent from `ScikitLearner`"
   ]
  },
  {
   "cell_type": "code",
   "execution_count": null,
   "metadata": {},
   "outputs": [],
   "source": [
    "#exports\n",
    "from eptune.sklearn import ScikitLearner, ScikitLearnerCV\n",
    "\n",
    "import sklearn\n",
    "from sklearn import datasets\n",
    "from sklearn import model_selection\n",
    "from sklearn import svm\n",
    "from sklearn import ensemble\n",
    "from sklearn import linear_model\n",
    "\n",
    "\n",
    "class Digits(ScikitLearner):\n",
    "    \"Sample case to use the helper class `ScikitLearner`.\"\n",
    "\n",
    "    def __init__(self, learner, seed=42):\n",
    "        data = sklearn.datasets.load_digits()\n",
    "        super().__init__(\n",
    "            learner,\n",
    "            *model_selection.train_test_split(\n",
    "                data[\"data\"], data[\"target\"], test_size=0.2,\n",
    "                random_state=seed))\n"
   ]
  },
  {
   "cell_type": "markdown",
   "metadata": {},
   "source": [
    "### Provide an estimator to the sub-class `Digits`"
   ]
  },
  {
   "cell_type": "code",
   "execution_count": null,
   "metadata": {},
   "outputs": [],
   "source": [
    "svc_digits = Digits(svm.SVC(probability=False))\n",
    "svc_digits.fit(svc_digits.X_train, svc_digits.y_train)"
   ]
  },
  {
   "cell_type": "code",
   "execution_count": null,
   "metadata": {},
   "outputs": [],
   "source": [
    "from sklearn.metrics import precision_recall_fscore_support\n",
    "precision_recall_fscore_support(svc_digits.y_val, svc_digits.predict(svc_digits.X_val))"
   ]
  },
  {
   "cell_type": "code",
   "execution_count": null,
   "metadata": {},
   "outputs": [],
   "source": [
    "import sklearn\n",
    "for i in svc_digits.valid_loss_with_params(C=3, callbacks=(sklearn.metrics.classification_report,)):\n",
    "    print(i[0])"
   ]
  },
  {
   "cell_type": "markdown",
   "metadata": {},
   "source": [
    "### Can use multiple estimator for the same sub-class\n",
    "\n",
    "Here we use svm.SVC with capability of output of probability as estimator:"
   ]
  },
  {
   "cell_type": "code",
   "execution_count": null,
   "metadata": {},
   "outputs": [],
   "source": [
    "svc_digits_proba = Digits(svm.SVC(probability=True))"
   ]
  },
  {
   "cell_type": "code",
   "execution_count": null,
   "metadata": {},
   "outputs": [],
   "source": [
    "%time svc_digits_proba.valid_loss_with_params(**{'C': 50.614816132626, 'kernel': 'rbf', 'gamma': 700,'probability':True})"
   ]
  },
  {
   "cell_type": "markdown",
   "metadata": {},
   "source": [
    "## Example of using `ScikitLearnerCV`"
   ]
  },
  {
   "cell_type": "code",
   "execution_count": null,
   "metadata": {},
   "outputs": [],
   "source": [
    "#exports\n",
    "class DigitsCV(ScikitLearnerCV):\n",
    "    \"Sample case to use the helper class `ScikitLearner`.\"\n",
    "\n",
    "    def __init__(self, learner):\n",
    "        data = sklearn.datasets.load_digits()\n",
    "        super().__init__(learner, X=data[\"data\"], y=data[\"target\"])"
   ]
  },
  {
   "cell_type": "markdown",
   "metadata": {},
   "source": [
    "### Using SVC as the estimator"
   ]
  },
  {
   "cell_type": "code",
   "execution_count": null,
   "metadata": {},
   "outputs": [],
   "source": [
    "cv_svc_digits = DigitsCV(svm.SVC())"
   ]
  },
  {
   "cell_type": "code",
   "execution_count": null,
   "metadata": {},
   "outputs": [],
   "source": [
    "cv_svc_digits.cv_loss_with_params()"
   ]
  },
  {
   "cell_type": "markdown",
   "metadata": {},
   "source": [
    "### Using other estimators"
   ]
  },
  {
   "cell_type": "code",
   "execution_count": null,
   "metadata": {},
   "outputs": [],
   "source": [
    "cv_rf_digits = DigitsCV(ensemble.RandomForestClassifier(n_jobs=4))\n",
    "cv_rf_digits.cv_loss_with_params()"
   ]
  },
  {
   "cell_type": "code",
   "execution_count": null,
   "metadata": {},
   "outputs": [],
   "source": [
    "cv_lr_digits = DigitsCV(linear_model.LogisticRegression(solver='newton-cg'))\n",
    "cv_lr_digits.cv_loss_with_params()"
   ]
  },
  {
   "cell_type": "code",
   "execution_count": null,
   "metadata": {},
   "outputs": [],
   "source": []
  }
 ],
 "metadata": {
  "kernelspec": {
   "display_name": "Python 3",
   "language": "python",
   "name": "python3"
  }
 },
 "nbformat": 4,
 "nbformat_minor": 4
}
