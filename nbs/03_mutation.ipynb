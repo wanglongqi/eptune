{
 "cells": [
  {
   "cell_type": "code",
   "execution_count": null,
   "metadata": {},
   "outputs": [],
   "source": [
    "#hide\n",
    "%load_ext autoreload\n",
    "%autoreload 2"
   ]
  },
  {
   "cell_type": "code",
   "execution_count": null,
   "metadata": {},
   "outputs": [],
   "source": [
    "# default_exp mutation"
   ]
  },
  {
   "cell_type": "markdown",
   "metadata": {},
   "source": [
    "# Mutation\n",
    "\n",
    "Some mutation functions for parameter tuning"
   ]
  },
  {
   "cell_type": "code",
   "execution_count": null,
   "metadata": {},
   "outputs": [],
   "source": [
    "#hide\n",
    "from nbdev.showdoc import *\n",
    "from nbdev.export import notebook2script"
   ]
  },
  {
   "cell_type": "code",
   "execution_count": null,
   "metadata": {},
   "outputs": [],
   "source": [
    "#export\n",
    "import random\n",
    "\n",
    "def mutDictRand(individual, params=None, indpb=0.6):\n",
    "    \"Mutation function (for dict base class) that changes the value of an individual at the probability of `indpb`.\"\n",
    "    if params is None:\n",
    "        params = individual.params\n",
    "    for p in params:\n",
    "        if p.name in individual:\n",
    "            if random.random() < indpb:\n",
    "                individual[p.name] = next(p)\n",
    "    return individual,\n",
    "\n",
    "def mutRand(individual, params=None, indpb=0.6):\n",
    "    \"Mutation function (for list base class) that changes the value of an individual at the probability of `indpb`.\"\n",
    "    if params is None:\n",
    "        params = individual.params\n",
    "    for idx, p in enumerate(params):\n",
    "        if random.random() < indpb:\n",
    "            individual[idx] = next(p)\n",
    "    return individual,"
   ]
  },
  {
   "cell_type": "code",
   "execution_count": null,
   "metadata": {},
   "outputs": [],
   "source": [
    "from eptune.parameter import FloatParameter\n",
    "params = [FloatParameter([1,10])]*5\n",
    "mutRand([1,2,3,4,5], params, 0.4)"
   ]
  },
  {
   "cell_type": "code",
   "execution_count": null,
   "metadata": {},
   "outputs": [],
   "source": [
    "#hide\n",
    "notebook2script()"
   ]
  },
  {
   "cell_type": "code",
   "execution_count": null,
   "metadata": {},
   "outputs": [],
   "source": []
  }
 ],
 "metadata": {
  "kernelspec": {
   "display_name": "Python 3",
   "language": "python",
   "name": "python3"
  }
 },
 "nbformat": 4,
 "nbformat_minor": 2
}
